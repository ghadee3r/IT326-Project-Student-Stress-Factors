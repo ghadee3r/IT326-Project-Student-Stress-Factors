{
  "metadata": {
    "kernelspec": {
      "name": "python",
      "display_name": "Python (Pyodide)",
      "language": "python"
    },
    "language_info": {
      "codemirror_mode": {
        "name": "python",
        "version": 3
      },
      "file_extension": ".py",
      "mimetype": "text/x-python",
      "name": "python",
      "nbconvert_exporter": "python",
      "pygments_lexer": "ipython3",
      "version": "3.8"
    }
  },
  "nbformat_minor": 4,
  "nbformat": 4,
  "cells": [
    {
      "cell_type": "markdown",
      "source": "## Goal\nThe goal of collecting this dataset is to analyze factors contributing to students stress levels using data mining techniques such as classification and clustering. This involves gathering information on variables like study load, bullying, self-esteem, mental health history, and other relevant factors. The dataset aims to provide a deeper understanding of how different stressors affect students and to uncover patterns that can guide schools in developing effective strategies and support systems to reduce student stress and enhance overall academic success.",
      "metadata": {}
    },
    {
      "cell_type": "markdown",
      "source": "## Soure of the Dataset\nhttps://www.kaggle.com/datasets/rxnach/student-stress-factors-a-comprehensive-analysis",
      "metadata": {}
    },
    {
      "cell_type": "markdown",
      "source": "## General information about the dataset\nThe dataset contains 21 attributes and 1,100 objects. The attributes are divided into 5 major factors with a focus on student stress levels: Psychological, Physiological, Social, Environmental, and Academic. The types of attributes are all ordinal except for mental_health_history, which is a binary attribute.\n\nAttribute Explanations:\n\n1- Psychological Factors:<br>\n● anxiety_level (0-21): An ordinal attribute that measures student’s anxiety severity. 0–4: Minimal anxiety, 5–9: Mild anxiety, 10–14: Moderate anxiety, 15–21: Severe anxiety.<br>\n● self_esteem (0-30): An ordinal attribute that reflects student’s self-worth. 0–15: Low self-esteem, 16–25: Normal self-esteem, 26–30: High self-esteem.<br>\n● mental_health_history (0-1): An asymmetric binary attribute that indicates if a student has a history of mental health issues (1) or not (0).<br>\n● depression (0-27):  An ordinal attribute that assesses the severity of depressive symptoms. 0–4: Minimal depression, 5–9: Mild depression, 10–14: Moderate depression, 15–19: Moderately severe depression, 20–27: Severe depression.<br>\n\n2- Physiological Factors:<br>\n● headache (0-5): An ordinal attribute that measures frequency or intensity of headaches. Higher values indicate more headaches.<br>\n● blood_pressure (1-3): An ordinal attribut that categorizes blood pressure levels, such as low (1), normal (2), or high (3).<br>\n● sleep_quality (0-5): An ordinal attribute that evaluates sleep quality. Higher scores mean better sleep.<br>\n● breathing_problem (0-5): An ordinal attribute that measures severity of breathing issues. Higher scores indicate more problems. <br>\n\n3- Environmental Factors:<br>\n● noise_level (0-5): An ordinal attribute that assesses environmental noise levels. Higher values mean more noise.<br>\n● living_conditions (0-5): An ordinal attribute that rates the quality of living conditions. Higher scores reflect better conditions.<br>\n● safety (0-5): An ordinal attribute that measures student’s sense of safety. Higher scores indicate greater safety.<br>\n● basic_needs (0-5): An ordinal attribute that evaluates if basic needs are met. Higher scores mean better fulfillment.<br>\n\n4- Academic Factors:<br>\n● academic_performance (0-5): An ordinal attribute that rates academic success. Higher scores indicate better performance.<br>\n● study_load (0-5): An ordinal attribute that measures the amount of study work. Higher values indicate heavier loads.<br>\n● teacher_student_relationship (0-5): An ordinal attribute that assesses the quality of the relationship with teachers. Higher scores mean better relationships.<br>\n● future_career_concerns (0-5): An ordinal attribute that evaluates concerns about future careers. Higher values mean more concerns.<br>\n\n5- Social Factor:<br>\n● social_support (0-3): An ordinal attribute that measures available social support. Higher scores indicate more support.<br>\n● peer_pressure (0-5): An ordinal attribute that assesses the level of peer pressure. Higher scores mean more pressure.<br>\n● extracurricular_activities (0-5): An ordinal attribute that rates involvement in activities outside of academics. Higher scores mean more involvement.<br>\n● bullying (0-5): An ordinal attribute that measures extent of bullying experienced. Higher scores suggest more bullying.\n\nClass Label:<br>\n● stress_level (0-2): An ordinal attribute that categorizes stress into three levels 0 for low stress, 1 for moderate stress, and 2 for high stress.",
      "metadata": {}
    },
    {
      "cell_type": "code",
      "source": "import pandas as pd\ndf = pd.read_csv('StressLevelDataset.csv')",
      "metadata": {
        "trusted": true
      },
      "outputs": [],
      "execution_count": 55
    },
    {
      "cell_type": "code",
      "source": "t0 = \"\\033[1m\" + \"Data types: \" + \"\\033[0m\"\nnum_attributes = len(df.columns)\nattribute_types = df.dtypes.to_frame().rename(columns={0: t0})\nnum_objects = len(df)\nclass_name = df.columns[-1]  \n\nt = \"\\033[1m\" + \"Attribute types:\" + \"\\033[0m\"\nprint(t)\nprint(attribute_types)\nprint(\"\\n\")\n\nt1= \"\\033[1m\" + \"Number of attributes:\" + \"\\033[0m\"\nprint(t1, num_attributes)\n\nt2 = \"\\033[1m\" + \"Number of objects:\" + \"\\033[0m\"\nprint(t2, num_objects)",
      "metadata": {
        "trusted": true
      },
      "outputs": [
        {
          "name": "stdout",
          "text": "\u001b[1mAttribute types:\u001b[0m\n                             \u001b[1mData types: \u001b[0m\nanxiety_level                               int64\nself_esteem                                 int64\nmental_health_history                       int64\ndepression                                  int64\nheadache                                    int64\nblood_pressure                              int64\nsleep_quality                               int64\nbreathing_problem                           int64\nnoise_level                                 int64\nliving_conditions                           int64\nsafety                                      int64\nbasic_needs                                 int64\nacademic_performance                        int64\nstudy_load                                  int64\nteacher_student_relationship                int64\nfuture_career_concerns                      int64\nsocial_support                              int64\npeer_pressure                               int64\nextracurricular_activities                  int64\nbullying                                    int64\nstress_level                                int64\n\n\n\u001b[1mNumber of attributes:\u001b[0m 21\n\u001b[1mNumber of objects:\u001b[0m 1100\n",
          "output_type": "stream"
        }
      ],
      "execution_count": 56
    }
  ]
}