{
  "metadata": {
    "kernelspec": {
      "name": "python",
      "display_name": "Python (Pyodide)",
      "language": "python"
    },
    "language_info": {
      "codemirror_mode": {
        "name": "python",
        "version": 3
      },
      "file_extension": ".py",
      "mimetype": "text/x-python",
      "name": "python",
      "nbconvert_exporter": "python",
      "pygments_lexer": "ipython3",
      "version": "3.8"
    }
  },
  "nbformat_minor": 4,
  "nbformat": 4,
  "cells": [
    {
      "cell_type": "markdown",
      "source": "## Goal\nThe goal of collecting this dataset is to analyze factors contributing to students stress levels using data mining techniques such as classification and clustering. This involves gathering information on variables like study load, bullying, self-esteem, mental health history, and other relevant factors. The dataset aims to provide a deeper understanding of how different stressors affect students and to uncover patterns that can guide schools in developing effective strategies and support systems to reduce student stress and enhance overall academic success.",
      "metadata": {}
    },
    {
      "cell_type": "markdown",
      "source": "## Soure of the Dataset\nhttps://www.kaggle.com/datasets/rxnach/student-stress-factors-a-comprehensive-analysis",
      "metadata": {}
    },
    {
      "cell_type": "markdown",
      "source": "## General information about the dataset\nThe dataset contains 21 attributes and 1,100 objects. The attributes are divided into 5 major factors with a focus on student stress levels: Psychological, Physiological, Social, Environmental, and Academic. The types of attributes are all ordinal except for mental_health_history, which is a binary attribute.\n\nAttribute Explanations:\n\n1- Psychological Factors:<br>\n● anxiety_level (0-21): An ordinal attribute that measures student’s anxiety severity. 0–4: Minimal anxiety, 5–9: Mild anxiety, 10–14: Moderate anxiety, 15–21: Severe anxiety.<br>\n● self_esteem (0-30): An ordinal attribute that reflects student’s self-worth. 0–15: Low self-esteem, 16–25: Normal self-esteem, 26–30: High self-esteem.<br>\n● mental_health_history (0-1): An asymmetric binary attribute that indicates if a student has a history of mental health issues (1) or not (0).<br>\n● depression (0-27):  An ordinal attribute that assesses the severity of depressive symptoms. 0–4: Minimal depression, 5–9: Mild depression, 10–14: Moderate depression, 15–19: Moderately severe depression, 20–27: Severe depression.<br>\n\n2- Physiological Factors:<br>\n● headache (0-5): An ordinal attribute that measures frequency or intensity of headaches. Higher values indicate more headaches.<br>\n● blood_pressure (1-3): An ordinal attribut that categorizes blood pressure levels, such as low (1), normal (2), or high (3).<br>\n● sleep_quality (0-5): An ordinal attribute that evaluates sleep quality. Higher scores mean better sleep.<br>\n● breathing_problem (0-5): An ordinal attribute that measures severity of breathing issues. Higher scores indicate more problems. <br>\n\n3- Environmental Factors:<br>\n● noise_level (0-5): An ordinal attribute that assesses environmental noise levels. Higher values mean more noise.<br>\n● living_conditions (0-5): An ordinal attribute that rates the quality of living conditions. Higher scores reflect better conditions.<br>\n● safety (0-5): An ordinal attribute that measures student’s sense of safety. Higher scores indicate greater safety.<br>\n● basic_needs (0-5): An ordinal attribute that evaluates if basic needs are met. Higher scores mean better fulfillment.<br>\n\n4- Academic Factors:<br>\n● academic_performance (0-5): An ordinal attribute that rates academic success. Higher scores indicate better performance.<br>\n● study_load (0-5): An ordinal attribute that measures the amount of study work. Higher values indicate heavier loads.<br>\n● teacher_student_relationship (0-5): An ordinal attribute that assesses the quality of the relationship with teachers. Higher scores mean better relationships.<br>\n● future_career_concerns (0-5): An ordinal attribute that evaluates concerns about future careers. Higher values mean more concerns.<br>\n\n5- Social Factor:<br>\n● social_support (0-3): An ordinal attribute that measures available social support. Higher scores indicate more support.<br>\n● peer_pressure (0-5): An ordinal attribute that assesses the level of peer pressure. Higher scores mean more pressure.<br>\n● extracurricular_activities (0-5): An ordinal attribute that rates involvement in activities outside of academics. Higher scores mean more involvement.<br>\n● bullying (0-5): An ordinal attribute that measures extent of bullying experienced. Higher scores suggest more bullying.\n\nClass Label:<br>\n● stress_level (0-2): An ordinal attribute that categorizes stress into three levels 0 for low stress, 1 for moderate stress, and 2 for high stress.",
      "metadata": {}
    },
    {
      "cell_type": "code",
      "source": "import pandas as pd\nimport matplotlib.pyplot as plt\nimport numpy as np\ndf = pd.read_csv('StressLevelDataset.csv')",
      "metadata": {
        "trusted": true
      },
      "outputs": [],
      "execution_count": 40
    },
    {
      "cell_type": "code",
      "source": "t0 = \"\\033[1m\" + \"Data types: \" + \"\\033[0m\"\nnum_attributes = len(df.columns)\nattribute_types = df.dtypes.to_frame().rename(columns={0: t0})\nnum_objects = len(df)\nclass_name = df.columns[-1]  \n\nt = \"\\033[1m\" + \"Attribute types:\" + \"\\033[0m\"\nprint(t)\nprint(attribute_types)\nprint(\"\\n\")\n\nt1= \"\\033[1m\" + \"Number of attributes:\" + \"\\033[0m\"\nprint(t1, num_attributes)\n\nt2 = \"\\033[1m\" + \"Number of objects:\" + \"\\033[0m\"\nprint(t2, num_objects)",
      "metadata": {
        "trusted": true
      },
      "outputs": [
        {
          "name": "stdout",
          "text": "\u001b[1mAttribute types:\u001b[0m\n                             \u001b[1mData types: \u001b[0m\nanxiety_level                               int64\nself_esteem                                 int64\nmental_health_history                       int64\ndepression                                  int64\nheadache                                    int64\nblood_pressure                              int64\nsleep_quality                               int64\nbreathing_problem                           int64\nnoise_level                                 int64\nliving_conditions                           int64\nsafety                                      int64\nbasic_needs                                 int64\nacademic_performance                        int64\nstudy_load                                  int64\nteacher_student_relationship                int64\nfuture_career_concerns                      int64\nsocial_support                              int64\npeer_pressure                               int64\nextracurricular_activities                  int64\nbullying                                    int64\nstress_level                                int64\n\n\n\u001b[1mNumber of attributes:\u001b[0m 21\n\u001b[1mNumber of objects:\u001b[0m 1100\n",
          "output_type": "stream"
        }
      ],
      "execution_count": 41
    },
    {
      "cell_type": "code",
      "source": "print(df.head(5)) #get the first 5 rows\nprint(df.tail(3)) #get the last 3 rows\nprint(df.dtypes) #prints the data types\nprint(df.index) #prints index\nprint(df.columns) #prints the columns of the DataFrame\nprint(df.values)",
      "metadata": {
        "trusted": true
      },
      "outputs": [
        {
          "name": "stdout",
          "text": "   anxiety_level  self_esteem  mental_health_history  depression  headache  \\\n0             14           20                      0          11         2   \n1             15            8                      1          15         5   \n2             12           18                      1          14         2   \n3             16           12                      1          15         4   \n4             16           28                      0           7         2   \n\n   blood_pressure  sleep_quality  breathing_problem  noise_level  \\\n0               1              2                  4            2   \n1               3              1                  4            3   \n2               1              2                  2            2   \n3               3              1                  3            4   \n4               3              5                  1            3   \n\n   living_conditions  ...  basic_needs  academic_performance  study_load  \\\n0                  3  ...            2                     3           2   \n1                  1  ...            2                     1           4   \n2                  2  ...            2                     2           3   \n3                  2  ...            2                     2           4   \n4                  2  ...            3                     4           3   \n\n   teacher_student_relationship  future_career_concerns  social_support  \\\n0                             3                       3               2   \n1                             1                       5               1   \n2                             3                       2               2   \n3                             1                       4               1   \n4                             1                       2               1   \n\n   peer_pressure  extracurricular_activities  bullying  stress_level  \n0              3                           3         2             1  \n1              4                           5         5             2  \n2              3                           2         2             1  \n3              4                           4         5             2  \n4              5                           0         5             1  \n\n[5 rows x 21 columns]\n      anxiety_level  self_esteem  mental_health_history  depression  headache  \\\n1097              4           26                      0           3         1   \n1098             21            0                      1          19         5   \n1099             18            6                      1          15         3   \n\n      blood_pressure  sleep_quality  breathing_problem  noise_level  \\\n1097               2              5                  2            2   \n1098               3              1                  4            3   \n1099               3              0                  3            3   \n\n      living_conditions  ...  basic_needs  academic_performance  study_load  \\\n1097                  3  ...            4                     5           1   \n1098                  1  ...            1                     2           5   \n1099                  0  ...            3                     3           4   \n\n      teacher_student_relationship  future_career_concerns  social_support  \\\n1097                             4                       1               3   \n1098                             1                       4               1   \n1099                             3                       3               1   \n\n      peer_pressure  extracurricular_activities  bullying  stress_level  \n1097              1                           2         1             0  \n1098              4                           4         4             2  \n1099              5                           1         4             2  \n\n[3 rows x 21 columns]\nanxiety_level                   int64\nself_esteem                     int64\nmental_health_history           int64\ndepression                      int64\nheadache                        int64\nblood_pressure                  int64\nsleep_quality                   int64\nbreathing_problem               int64\nnoise_level                     int64\nliving_conditions               int64\nsafety                          int64\nbasic_needs                     int64\nacademic_performance            int64\nstudy_load                      int64\nteacher_student_relationship    int64\nfuture_career_concerns          int64\nsocial_support                  int64\npeer_pressure                   int64\nextracurricular_activities      int64\nbullying                        int64\nstress_level                    int64\ndtype: object\nRangeIndex(start=0, stop=1100, step=1)\nIndex(['anxiety_level', 'self_esteem', 'mental_health_history', 'depression',\n       'headache', 'blood_pressure', 'sleep_quality', 'breathing_problem',\n       'noise_level', 'living_conditions', 'safety', 'basic_needs',\n       'academic_performance', 'study_load', 'teacher_student_relationship',\n       'future_career_concerns', 'social_support', 'peer_pressure',\n       'extracurricular_activities', 'bullying', 'stress_level'],\n      dtype='object')\n[[14 20  0 ...  3  2  1]\n [15  8  1 ...  5  5  2]\n [12 18  1 ...  2  2  1]\n ...\n [ 4 26  0 ...  2  1  0]\n [21  0  1 ...  4  4  2]\n [18  6  1 ...  1  4  2]]\n",
          "output_type": "stream"
        }
      ],
      "execution_count": 42
    },
    {
      "cell_type": "code",
      "source": "df.describe()",
      "metadata": {
        "trusted": true
      },
      "outputs": [
        {
          "execution_count": 43,
          "output_type": "execute_result",
          "data": {
            "text/plain": "       anxiety_level  self_esteem  mental_health_history   depression  \\\ncount    1100.000000  1100.000000            1100.000000  1100.000000   \nmean       11.063636    17.777273               0.492727    12.555455   \nstd         6.117558     8.944599               0.500175     7.727008   \nmin         0.000000     0.000000               0.000000     0.000000   \n25%         6.000000    11.000000               0.000000     6.000000   \n50%        11.000000    19.000000               0.000000    12.000000   \n75%        16.000000    26.000000               1.000000    19.000000   \nmax        21.000000    30.000000               1.000000    27.000000   \n\n          headache  blood_pressure  sleep_quality  breathing_problem  \\\ncount  1100.000000     1100.000000    1100.000000        1100.000000   \nmean      2.508182        2.181818       2.660000           2.753636   \nstd       1.409356        0.833575       1.548383           1.400713   \nmin       0.000000        1.000000       0.000000           0.000000   \n25%       1.000000        1.000000       1.000000           2.000000   \n50%       3.000000        2.000000       2.500000           3.000000   \n75%       3.000000        3.000000       4.000000           4.000000   \nmax       5.000000        3.000000       5.000000           5.000000   \n\n       noise_level  living_conditions  ...  basic_needs  academic_performance  \\\ncount  1100.000000        1100.000000  ...  1100.000000           1100.000000   \nmean      2.649091           2.518182  ...     2.772727              2.772727   \nstd       1.328127           1.119208  ...     1.433761              1.414594   \nmin       0.000000           0.000000  ...     0.000000              0.000000   \n25%       2.000000           2.000000  ...     2.000000              2.000000   \n50%       3.000000           2.000000  ...     3.000000              2.000000   \n75%       3.000000           3.000000  ...     4.000000              4.000000   \nmax       5.000000           5.000000  ...     5.000000              5.000000   \n\n        study_load  teacher_student_relationship  future_career_concerns  \\\ncount  1100.000000                   1100.000000             1100.000000   \nmean      2.621818                      2.648182                2.649091   \nstd       1.315781                      1.384579                1.529375   \nmin       0.000000                      0.000000                0.000000   \n25%       2.000000                      2.000000                1.000000   \n50%       2.000000                      2.000000                2.000000   \n75%       3.000000                      4.000000                4.000000   \nmax       5.000000                      5.000000                5.000000   \n\n       social_support  peer_pressure  extracurricular_activities     bullying  \\\ncount     1100.000000    1100.000000                 1100.000000  1100.000000   \nmean         1.881818       2.734545                    2.767273     2.617273   \nstd          1.047826       1.425265                    1.417562     1.530958   \nmin          0.000000       0.000000                    0.000000     0.000000   \n25%          1.000000       2.000000                    2.000000     1.000000   \n50%          2.000000       2.000000                    2.500000     3.000000   \n75%          3.000000       4.000000                    4.000000     4.000000   \nmax          3.000000       5.000000                    5.000000     5.000000   \n\n       stress_level  \ncount   1100.000000  \nmean       0.996364  \nstd        0.821673  \nmin        0.000000  \n25%        0.000000  \n50%        1.000000  \n75%        2.000000  \nmax        2.000000  \n\n[8 rows x 21 columns]",
            "text/html": "<div>\n<style scoped>\n    .dataframe tbody tr th:only-of-type {\n        vertical-align: middle;\n    }\n\n    .dataframe tbody tr th {\n        vertical-align: top;\n    }\n\n    .dataframe thead th {\n        text-align: right;\n    }\n</style>\n<table border=\"1\" class=\"dataframe\">\n  <thead>\n    <tr style=\"text-align: right;\">\n      <th></th>\n      <th>anxiety_level</th>\n      <th>self_esteem</th>\n      <th>mental_health_history</th>\n      <th>depression</th>\n      <th>headache</th>\n      <th>blood_pressure</th>\n      <th>sleep_quality</th>\n      <th>breathing_problem</th>\n      <th>noise_level</th>\n      <th>living_conditions</th>\n      <th>...</th>\n      <th>basic_needs</th>\n      <th>academic_performance</th>\n      <th>study_load</th>\n      <th>teacher_student_relationship</th>\n      <th>future_career_concerns</th>\n      <th>social_support</th>\n      <th>peer_pressure</th>\n      <th>extracurricular_activities</th>\n      <th>bullying</th>\n      <th>stress_level</th>\n    </tr>\n  </thead>\n  <tbody>\n    <tr>\n      <th>count</th>\n      <td>1100.000000</td>\n      <td>1100.000000</td>\n      <td>1100.000000</td>\n      <td>1100.000000</td>\n      <td>1100.000000</td>\n      <td>1100.000000</td>\n      <td>1100.000000</td>\n      <td>1100.000000</td>\n      <td>1100.000000</td>\n      <td>1100.000000</td>\n      <td>...</td>\n      <td>1100.000000</td>\n      <td>1100.000000</td>\n      <td>1100.000000</td>\n      <td>1100.000000</td>\n      <td>1100.000000</td>\n      <td>1100.000000</td>\n      <td>1100.000000</td>\n      <td>1100.000000</td>\n      <td>1100.000000</td>\n      <td>1100.000000</td>\n    </tr>\n    <tr>\n      <th>mean</th>\n      <td>11.063636</td>\n      <td>17.777273</td>\n      <td>0.492727</td>\n      <td>12.555455</td>\n      <td>2.508182</td>\n      <td>2.181818</td>\n      <td>2.660000</td>\n      <td>2.753636</td>\n      <td>2.649091</td>\n      <td>2.518182</td>\n      <td>...</td>\n      <td>2.772727</td>\n      <td>2.772727</td>\n      <td>2.621818</td>\n      <td>2.648182</td>\n      <td>2.649091</td>\n      <td>1.881818</td>\n      <td>2.734545</td>\n      <td>2.767273</td>\n      <td>2.617273</td>\n      <td>0.996364</td>\n    </tr>\n    <tr>\n      <th>std</th>\n      <td>6.117558</td>\n      <td>8.944599</td>\n      <td>0.500175</td>\n      <td>7.727008</td>\n      <td>1.409356</td>\n      <td>0.833575</td>\n      <td>1.548383</td>\n      <td>1.400713</td>\n      <td>1.328127</td>\n      <td>1.119208</td>\n      <td>...</td>\n      <td>1.433761</td>\n      <td>1.414594</td>\n      <td>1.315781</td>\n      <td>1.384579</td>\n      <td>1.529375</td>\n      <td>1.047826</td>\n      <td>1.425265</td>\n      <td>1.417562</td>\n      <td>1.530958</td>\n      <td>0.821673</td>\n    </tr>\n    <tr>\n      <th>min</th>\n      <td>0.000000</td>\n      <td>0.000000</td>\n      <td>0.000000</td>\n      <td>0.000000</td>\n      <td>0.000000</td>\n      <td>1.000000</td>\n      <td>0.000000</td>\n      <td>0.000000</td>\n      <td>0.000000</td>\n      <td>0.000000</td>\n      <td>...</td>\n      <td>0.000000</td>\n      <td>0.000000</td>\n      <td>0.000000</td>\n      <td>0.000000</td>\n      <td>0.000000</td>\n      <td>0.000000</td>\n      <td>0.000000</td>\n      <td>0.000000</td>\n      <td>0.000000</td>\n      <td>0.000000</td>\n    </tr>\n    <tr>\n      <th>25%</th>\n      <td>6.000000</td>\n      <td>11.000000</td>\n      <td>0.000000</td>\n      <td>6.000000</td>\n      <td>1.000000</td>\n      <td>1.000000</td>\n      <td>1.000000</td>\n      <td>2.000000</td>\n      <td>2.000000</td>\n      <td>2.000000</td>\n      <td>...</td>\n      <td>2.000000</td>\n      <td>2.000000</td>\n      <td>2.000000</td>\n      <td>2.000000</td>\n      <td>1.000000</td>\n      <td>1.000000</td>\n      <td>2.000000</td>\n      <td>2.000000</td>\n      <td>1.000000</td>\n      <td>0.000000</td>\n    </tr>\n    <tr>\n      <th>50%</th>\n      <td>11.000000</td>\n      <td>19.000000</td>\n      <td>0.000000</td>\n      <td>12.000000</td>\n      <td>3.000000</td>\n      <td>2.000000</td>\n      <td>2.500000</td>\n      <td>3.000000</td>\n      <td>3.000000</td>\n      <td>2.000000</td>\n      <td>...</td>\n      <td>3.000000</td>\n      <td>2.000000</td>\n      <td>2.000000</td>\n      <td>2.000000</td>\n      <td>2.000000</td>\n      <td>2.000000</td>\n      <td>2.000000</td>\n      <td>2.500000</td>\n      <td>3.000000</td>\n      <td>1.000000</td>\n    </tr>\n    <tr>\n      <th>75%</th>\n      <td>16.000000</td>\n      <td>26.000000</td>\n      <td>1.000000</td>\n      <td>19.000000</td>\n      <td>3.000000</td>\n      <td>3.000000</td>\n      <td>4.000000</td>\n      <td>4.000000</td>\n      <td>3.000000</td>\n      <td>3.000000</td>\n      <td>...</td>\n      <td>4.000000</td>\n      <td>4.000000</td>\n      <td>3.000000</td>\n      <td>4.000000</td>\n      <td>4.000000</td>\n      <td>3.000000</td>\n      <td>4.000000</td>\n      <td>4.000000</td>\n      <td>4.000000</td>\n      <td>2.000000</td>\n    </tr>\n    <tr>\n      <th>max</th>\n      <td>21.000000</td>\n      <td>30.000000</td>\n      <td>1.000000</td>\n      <td>27.000000</td>\n      <td>5.000000</td>\n      <td>3.000000</td>\n      <td>5.000000</td>\n      <td>5.000000</td>\n      <td>5.000000</td>\n      <td>5.000000</td>\n      <td>...</td>\n      <td>5.000000</td>\n      <td>5.000000</td>\n      <td>5.000000</td>\n      <td>5.000000</td>\n      <td>5.000000</td>\n      <td>3.000000</td>\n      <td>5.000000</td>\n      <td>5.000000</td>\n      <td>5.000000</td>\n      <td>2.000000</td>\n    </tr>\n  </tbody>\n</table>\n<p>8 rows × 21 columns</p>\n</div>"
          },
          "metadata": {}
        }
      ],
      "execution_count": 43
    },
    {
      "cell_type": "code",
      "source": "df = pd.DataFrame(df)\n\nmissing_values = df.isna().sum()\nprint(\"Missing values in each column\")\nprint(missing_values)\nprint(\"\\nTotal number of missing valies: \",missing_values.sum())",
      "metadata": {
        "trusted": true
      },
      "outputs": [
        {
          "name": "stdout",
          "text": "Missing values in each column\nanxiety_level                   0\nself_esteem                     0\nmental_health_history           0\ndepression                      0\nheadache                        0\nblood_pressure                  0\nsleep_quality                   0\nbreathing_problem               0\nnoise_level                     0\nliving_conditions               0\nsafety                          0\nbasic_needs                     0\nacademic_performance            0\nstudy_load                      0\nteacher_student_relationship    0\nfuture_career_concerns          0\nsocial_support                  0\npeer_pressure                   0\nextracurricular_activities      0\nbullying                        0\nstress_level                    0\ndtype: int64\n\nTotal number of missing valies:  0\n",
          "output_type": "stream"
        }
      ],
      "execution_count": 44
    },
    {
      "cell_type": "code",
      "source": "def describe_with_central_tendencies(df):\n    description = df.describe().T  \n    \n    description['median'] = df.median()\n    description['mode'] = df.mode().iloc[0] \n    description['midrange'] = (df.min() + df.max()) / 2\n    description['range'] = df.max() - df.min()\n    description['variance'] = df.var()\n    description['IQR'] = df.quantile(0.75) - df.quantile(0.25)\n\n    return description\n\nnumeric_columns = df.select_dtypes(include=[np.number])\ncentral_tendencies = describe_with_central_tendencies(numeric_columns)\n\nprint(\"\\nCentral Tendencies for Numeric Columns:\")\nprint(central_tendencies)",
      "metadata": {
        "trusted": true
      },
      "outputs": [
        {
          "name": "stdout",
          "text": "\nCentral Tendencies for Numeric Columns:\n                               count       mean       std  min   25%   50%  \\\nanxiety_level                 1100.0  11.063636  6.117558  0.0   6.0  11.0   \nself_esteem                   1100.0  17.777273  8.944599  0.0  11.0  19.0   \nmental_health_history         1100.0   0.492727  0.500175  0.0   0.0   0.0   \ndepression                    1100.0  12.555455  7.727008  0.0   6.0  12.0   \nheadache                      1100.0   2.508182  1.409356  0.0   1.0   3.0   \nblood_pressure                1100.0   2.181818  0.833575  1.0   1.0   2.0   \nsleep_quality                 1100.0   2.660000  1.548383  0.0   1.0   2.5   \nbreathing_problem             1100.0   2.753636  1.400713  0.0   2.0   3.0   \nnoise_level                   1100.0   2.649091  1.328127  0.0   2.0   3.0   \nliving_conditions             1100.0   2.518182  1.119208  0.0   2.0   2.0   \nsafety                        1100.0   2.737273  1.406171  0.0   2.0   2.0   \nbasic_needs                   1100.0   2.772727  1.433761  0.0   2.0   3.0   \nacademic_performance          1100.0   2.772727  1.414594  0.0   2.0   2.0   \nstudy_load                    1100.0   2.621818  1.315781  0.0   2.0   2.0   \nteacher_student_relationship  1100.0   2.648182  1.384579  0.0   2.0   2.0   \nfuture_career_concerns        1100.0   2.649091  1.529375  0.0   1.0   2.0   \nsocial_support                1100.0   1.881818  1.047826  0.0   1.0   2.0   \npeer_pressure                 1100.0   2.734545  1.425265  0.0   2.0   2.0   \nextracurricular_activities    1100.0   2.767273  1.417562  0.0   2.0   2.5   \nbullying                      1100.0   2.617273  1.530958  0.0   1.0   3.0   \nstress_level                  1100.0   0.996364  0.821673  0.0   0.0   1.0   \n\n                               75%   max  median  mode  midrange  range  \\\nanxiety_level                 16.0  21.0    11.0    13      10.5     21   \nself_esteem                   26.0  30.0    19.0    25      15.0     30   \nmental_health_history          1.0   1.0     0.0     0       0.5      1   \ndepression                    19.0  27.0    12.0    10      13.5     27   \nheadache                       3.0   5.0     3.0     1       2.5      5   \nblood_pressure                 3.0   3.0     2.0     3       2.0      2   \nsleep_quality                  4.0   5.0     2.5     1       2.5      5   \nbreathing_problem              4.0   5.0     3.0     2       2.5      5   \nnoise_level                    3.0   5.0     3.0     2       2.5      5   \nliving_conditions              3.0   5.0     2.0     2       2.5      5   \nsafety                         4.0   5.0     2.0     2       2.5      5   \nbasic_needs                    4.0   5.0     3.0     2       2.5      5   \nacademic_performance           4.0   5.0     2.0     2       2.5      5   \nstudy_load                     3.0   5.0     2.0     2       2.5      5   \nteacher_student_relationship   4.0   5.0     2.0     2       2.5      5   \nfuture_career_concerns         4.0   5.0     2.0     1       2.5      5   \nsocial_support                 3.0   3.0     2.0     3       1.5      3   \npeer_pressure                  4.0   5.0     2.0     2       2.5      5   \nextracurricular_activities     4.0   5.0     2.5     2       2.5      5   \nbullying                       4.0   5.0     3.0     1       2.5      5   \nstress_level                   2.0   2.0     1.0     0       1.0      2   \n\n                               variance   IQR  \nanxiety_level                 37.424518  10.0  \nself_esteem                   80.005852  15.0  \nmental_health_history          0.250175   1.0  \ndepression                    59.706658  13.0  \nheadache                       1.986284   2.0  \nblood_pressure                 0.694847   2.0  \nsleep_quality                  2.397489   3.0  \nbreathing_problem              1.961998   2.0  \nnoise_level                    1.763921   1.0  \nliving_conditions              1.252626   1.0  \nsafety                         1.977317   2.0  \nbasic_needs                    2.055670   2.0  \nacademic_performance           2.001075   2.0  \nstudy_load                     1.731280   1.0  \nteacher_student_relationship   1.917058   2.0  \nfuture_career_concerns         2.338989   3.0  \nsocial_support                 1.097940   2.0  \npeer_pressure                  2.031381   2.0  \nextracurricular_activities     2.009483   2.0  \nbullying                       2.343832   3.0  \nstress_level                   0.675146   2.0  \n",
          "output_type": "stream"
        }
      ],
      "execution_count": 45
    },
    {
      "cell_type": "code",
      "source": "def detect_outliers_iqr(df):\n    outliers = {}\n    Q1 = df.quantile(0.25)\n    Q3 = df.quantile(0.75)\n    IQR = Q3 - Q1\n    \n    lower_bound = Q1 - 1.5 * IQR\n    upper_bound = Q3 + 1.5 * IQR\n    \n    for col in df.columns:\n        outliers[col] = df[(df[col] < lower_bound[col]) | (df[col] > upper_bound[col])][col]\n    \n    return outliers\n\nnumeric_columns = df.select_dtypes(include=[np.number])\noutliers = detect_outliers_iqr(numeric_columns)\n\nprint(\"\\nDetected Outliers for Numeric Columns:\")\nfor column, values in outliers.items():\n    print(f\"\\nOutliers in {column}:\")\n    print(values)",
      "metadata": {
        "trusted": true
      },
      "outputs": [
        {
          "name": "stdout",
          "text": "\nDetected Outliers for Numeric Columns:\n\nOutliers in anxiety_level:\nSeries([], Name: anxiety_level, dtype: int64)\n\nOutliers in self_esteem:\nSeries([], Name: self_esteem, dtype: int64)\n\nOutliers in mental_health_history:\nSeries([], Name: mental_health_history, dtype: int64)\n\nOutliers in depression:\nSeries([], Name: depression, dtype: int64)\n\nOutliers in headache:\nSeries([], Name: headache, dtype: int64)\n\nOutliers in blood_pressure:\nSeries([], Name: blood_pressure, dtype: int64)\n\nOutliers in sleep_quality:\nSeries([], Name: sleep_quality, dtype: int64)\n\nOutliers in breathing_problem:\nSeries([], Name: breathing_problem, dtype: int64)\n\nOutliers in noise_level:\n9       0\n11      5\n21      5\n27      5\n29      5\n       ..\n1085    5\n1090    0\n1091    5\n1094    5\n1096    0\nName: noise_level, Length: 173, dtype: int64\n\nOutliers in living_conditions:\n9       5\n114     5\n125     5\n184     5\n204     0\n       ..\n1037    0\n1040    0\n1053    5\n1065    5\n1099    0\nName: living_conditions, Length: 62, dtype: int64\n\nOutliers in safety:\nSeries([], Name: safety, dtype: int64)\n\nOutliers in basic_needs:\nSeries([], Name: basic_needs, dtype: int64)\n\nOutliers in academic_performance:\nSeries([], Name: academic_performance, dtype: int64)\n\nOutliers in study_load:\n5       5\n19      5\n21      5\n27      0\n61      0\n       ..\n1072    5\n1076    5\n1085    5\n1089    0\n1098    5\nName: study_load, Length: 165, dtype: int64\n\nOutliers in teacher_student_relationship:\nSeries([], Name: teacher_student_relationship, dtype: int64)\n\nOutliers in future_career_concerns:\nSeries([], Name: future_career_concerns, dtype: int64)\n\nOutliers in social_support:\nSeries([], Name: social_support, dtype: int64)\n\nOutliers in peer_pressure:\nSeries([], Name: peer_pressure, dtype: int64)\n\nOutliers in extracurricular_activities:\nSeries([], Name: extracurricular_activities, dtype: int64)\n\nOutliers in bullying:\nSeries([], Name: bullying, dtype: int64)\n\nOutliers in stress_level:\nSeries([], Name: stress_level, dtype: int64)\n",
          "output_type": "stream"
        }
      ],
      "execution_count": 46
    },
    {
      "cell_type": "code",
      "source": "column_to_discretize = 'anxiety_level'\nbin_edges = [0, 4, 9, 14, 21]\nbin_labels = ['0-4', '5-9', '10-14', '15-21']\n\ndf['discretized_' + column_to_discretize] = pd.cut(df[column_to_discretize], bins=bin_edges, labels=bin_labels, include_lowest=True)\n\nprint(\"Original DataFrame:\")\nprint(df[['anxiety_level', 'discretized_anxiety_level']])",
      "metadata": {
        "trusted": true
      },
      "outputs": [
        {
          "name": "stdout",
          "text": "Original DataFrame:\n      anxiety_level discretized_anxiety_level\n0                14                     10-14\n1                15                     15-21\n2                12                     10-14\n3                16                     15-21\n4                16                     15-21\n...             ...                       ...\n1095             11                     10-14\n1096              9                       5-9\n1097              4                       0-4\n1098             21                     15-21\n1099             18                     15-21\n\n[1100 rows x 2 columns]\n",
          "output_type": "stream"
        }
      ],
      "execution_count": 47
    },
    {
      "cell_type": "code",
      "source": "column_to_discretize = 'self_esteem'\nbin_edges = [0, 15, 25, 30]\nbin_labels = ['0-15', '16-25', '26-30']\n\ndf['discretized_' + column_to_discretize] = pd.cut(df[column_to_discretize], bins=bin_edges, labels=bin_labels, include_lowest=True)\n\nprint(\"Original DataFrame:\")\nprint(df[['self_esteem', 'discretized_self_esteem']])",
      "metadata": {
        "trusted": true
      },
      "outputs": [
        {
          "name": "stdout",
          "text": "Original DataFrame:\n      self_esteem discretized_self_esteem\n0              20                   16-25\n1               8                    0-15\n2              18                   16-25\n3              12                    0-15\n4              28                   26-30\n...           ...                     ...\n1095           17                   16-25\n1096           12                    0-15\n1097           26                   26-30\n1098            0                    0-15\n1099            6                    0-15\n\n[1100 rows x 2 columns]\n",
          "output_type": "stream"
        }
      ],
      "execution_count": 48
    },
    {
      "cell_type": "code",
      "source": "column_to_discretize = 'depression'\nbin_edges = [0, 4, 9, 14, 19, 27]\nbin_labels = ['0-4', '5-9', '10-14', '15-19', '20-27']\n\ndf['discretized_' + column_to_discretize] = pd.cut(df[column_to_discretize], bins=bin_edges, labels=bin_labels, include_lowest=True)\n\nprint(\"Original DataFrame:\")\nprint(df[['depression', 'discretized_depression']])",
      "metadata": {
        "trusted": true
      },
      "outputs": [
        {
          "name": "stdout",
          "text": "Original DataFrame:\n      depression discretized_depression\n0             11                  10-14\n1             15                  15-19\n2             14                  10-14\n3             15                  15-19\n4              7                    5-9\n...          ...                    ...\n1095          14                  10-14\n1096           8                    5-9\n1097           3                    0-4\n1098          19                  15-19\n1099          15                  15-19\n\n[1100 rows x 2 columns]\n",
          "output_type": "stream"
        }
      ],
      "execution_count": 49
    },
    {
      "cell_type": "code",
      "source": "",
      "metadata": {
        "trusted": true
      },
      "outputs": [],
      "execution_count": null
    }
  ]
}