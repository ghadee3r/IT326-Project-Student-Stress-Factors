{
  "metadata": {
    "kernelspec": {
      "name": "python",
      "display_name": "Python (Pyodide)",
      "language": "python"
    },
    "language_info": {
      "codemirror_mode": {
        "name": "python",
        "version": 3
      },
      "file_extension": ".py",
      "mimetype": "text/x-python",
      "name": "python",
      "nbconvert_exporter": "python",
      "pygments_lexer": "ipython3",
      "version": "3.8"
    }
  },
  "nbformat_minor": 4,
  "nbformat": 4,
  "cells": [
    {
      "cell_type": "markdown",
      "source": "## Goal\nThe goal of collecting this dataset is to analyze factors contributing to students stress levels using data mining techniques such as classification and clustering. This involves gathering information on variables like study load, bullying, self-esteem, mental health history, and other relevant factors. The dataset aims to provide a deeper understanding of how different stressors affect students and to uncover patterns that can guide schools in developing effective strategies and support systems to reduce student stress and enhance overall academic success.",
      "metadata": {}
    },
    {
      "cell_type": "markdown",
      "source": "## Soure of the Dataset\nhttps://www.kaggle.com/datasets/rxnach/student-stress-factors-a-comprehensive-analysis",
      "metadata": {}
    },
    {
      "cell_type": "markdown",
      "source": "## General information about the dataset\nThe dataset contains 21 columns and 1,100 rows, with a focus on student stress levels. The class label, stress_level, categorizes stress into three levels: 0 for no stress, 1 for moderate stress, and 2 for high stress.",
      "metadata": {}
    },
    {
      "cell_type": "code",
      "source": "import pandas as pd\ndf = pd.read_csv('StressLevelDataset.csv')",
      "metadata": {
        "trusted": true
      },
      "outputs": [],
      "execution_count": 4
    },
    {
      "cell_type": "code",
      "source": "t0 = \"\\033[1m\" + \"Data types: \" + \"\\033[0m\"\nnum_attributes = len(df.columns)\nattribute_types = df.dtypes.to_frame().rename(columns={0: t0})\nnum_objects = len(df)\nclass_name = df.columns[-1]  \n\nt = \"\\033[1m\" + \"Attribute types:\" + \"\\033[0m\"\nprint(t)\nprint(attribute_types)\nprint(\"\\n\")\n\nt1= \"\\033[1m\" + \"Number of attributes:\" + \"\\033[0m\"\nprint(t1, num_attributes)\nprint(\"\\n\")\n\nt2 = \"\\033[1m\" + \"Number of objects:\" + \"\\033[0m\"\nprint(t2, num_objects)\nprint(\"\\n\")",
      "metadata": {
        "trusted": true
      },
      "outputs": [
        {
          "name": "stdout",
          "text": "\u001b[1mAttribute types:\u001b[0m\n                             \u001b[1mData types: \u001b[0m\nanxiety_level                               int64\nself_esteem                                 int64\nmental_health_history                       int64\ndepression                                  int64\nheadache                                    int64\nblood_pressure                              int64\nsleep_quality                               int64\nbreathing_problem                           int64\nnoise_level                                 int64\nliving_conditions                           int64\nsafety                                      int64\nbasic_needs                                 int64\nacademic_performance                        int64\nstudy_load                                  int64\nteacher_student_relationship                int64\nfuture_career_concerns                      int64\nsocial_support                              int64\npeer_pressure                               int64\nextracurricular_activities                  int64\nbullying                                    int64\nstress_level                                int64\n\n\n\u001b[1mNumber of attributes:\u001b[0m 21\n\n\n\u001b[1mNumber of objects:\u001b[0m 1100\n\n\n",
          "output_type": "stream"
        }
      ],
      "execution_count": 5
    },
    {
      "cell_type": "code",
      "source": "bold = \"\\033[1m\"\n\n\nexplanations = {\n    'id': 'A unique identifier for each student.',\n    'age': 'Age of the student.',\n    'gender': 'Gender of the student (e.g., Male, Female).',\n    'academic_performance': 'Academic performance score or grade.',\n    'stress_level': 'Self-reported stress level (e.g., Low, Medium, High).',\n    'study_hours_per_week': 'Number of hours the student studies per week.',\n    'extracurricular_activities': 'Number of extracurricular activities the student is involved in.',\n    'sleep_hours_per_night': 'Average number of hours the student sleeps per night.',\n    'social_interaction_hours_per_week': 'Number of hours the student spends interacting socially each week.',\n    'financial_status': 'Financial status of the student or their family (e.g., Poor, Middle Class, Rich).',\n    'support_system': 'Presence and quality of support system (e.g., Family, Friends).',\n    'health_issues': 'Any health issues reported by the student (e.g., Yes, No).'\n}\n\n\nprint(bold + \"Attribute Explanations:\" )\nprint(\"\\n\")\nfor attribute, explanation in explanations.items():\n    print(f\"{bold}{attribute}: {explanation}\")",
      "metadata": {
        "trusted": true
      },
      "outputs": [
        {
          "name": "stdout",
          "text": "\u001b[1mAttribute Explanations:\n\n\n\u001b[1mid: A unique identifier for each student.\n\u001b[1mage: Age of the student.\n\u001b[1mgender: Gender of the student (e.g., Male, Female).\n\u001b[1macademic_performance: Academic performance score or grade.\n\u001b[1mstress_level: Self-reported stress level (e.g., Low, Medium, High).\n\u001b[1mstudy_hours_per_week: Number of hours the student studies per week.\n\u001b[1mextracurricular_activities: Number of extracurricular activities the student is involved in.\n\u001b[1msleep_hours_per_night: Average number of hours the student sleeps per night.\n\u001b[1msocial_interaction_hours_per_week: Number of hours the student spends interacting socially each week.\n\u001b[1mfinancial_status: Financial status of the student or their family (e.g., Poor, Middle Class, Rich).\n\u001b[1msupport_system: Presence and quality of support system (e.g., Family, Friends).\n\u001b[1mhealth_issues: Any health issues reported by the student (e.g., Yes, No).\n",
          "output_type": "stream"
        }
      ],
      "execution_count": 6
    }
  ]
}