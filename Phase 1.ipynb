{
  "metadata": {
    "kernelspec": {
      "name": "python",
      "display_name": "Python (Pyodide)",
      "language": "python"
    },
    "language_info": {
      "codemirror_mode": {
        "name": "python",
        "version": 3
      },
      "file_extension": ".py",
      "mimetype": "text/x-python",
      "name": "python",
      "nbconvert_exporter": "python",
      "pygments_lexer": "ipython3",
      "version": "3.8"
    }
  },
  "nbformat_minor": 4,
  "nbformat": 4,
  "cells": [
    {
      "cell_type": "markdown",
      "source": "## Goal\nThe goal of collecting this dataset is to analyze factors contributing to students stress levels by gathering information on variables such as study load, bullying, self-esteem, mental health history, and other relevant factors. The dataset aims to provide a deeper understanding of how different stressors affect students and to uncover patterns that can guide schools in developing effective strategies and support systems to reduce student stress and enhance overall academic success.",
      "metadata": {}
    },
    {
      "cell_type": "markdown",
      "source": "## General Information about the Dataset\n",
      "metadata": {}
    },
    {
      "cell_type": "code",
      "source": "import pandas as pd\ndf = pd.read_csv('StressLevelDataset.csv')",
      "metadata": {
        "trusted": true
      },
      "outputs": [],
      "execution_count": 4
    },
    {
      "cell_type": "code",
      "source": "t1 = \"\\033[1m\" + \"Data types: \" + \"\\033[0m\"\nnum_attributes = len(df.columns)\nattribute_types = df.dtypes.to_frame().rename(columns={0: t1})\nnum_objects = len(df)\nclass_name = df.columns[-1]  \n\nt2 = \"\\033[1m\" + \"Attribute types:\" + \"\\033[0m\"\nprint(t2)\nprint(attribute_types)\nprint(\"\\n\")\n\nt3 = \"\\033[1m\" + \"Number of attributes:\" + \"\\033[0m\"\nprint(t3, num_attributes)\nprint(\"\\n\")\n\nt4 = \"\\033[1m\" + \"Number of objects:\" + \"\\033[0m\"\nprint(t4, num_objects)\nprint(\"\\n\")",
      "metadata": {
        "trusted": true
      },
      "outputs": [
        {
          "name": "stdout",
          "text": "\u001b[1mAttribute types:\u001b[0m\n                             \u001b[1mData types: \u001b[0m\nanxiety_level                               int64\nself_esteem                                 int64\nmental_health_history                       int64\ndepression                                  int64\nheadache                                    int64\nblood_pressure                              int64\nsleep_quality                               int64\nbreathing_problem                           int64\nnoise_level                                 int64\nliving_conditions                           int64\nsafety                                      int64\nbasic_needs                                 int64\nacademic_performance                        int64\nstudy_load                                  int64\nteacher_student_relationship                int64\nfuture_career_concerns                      int64\nsocial_support                              int64\npeer_pressure                               int64\nextracurricular_activities                  int64\nbullying                                    int64\nstress_level                                int64\n\n\n\u001b[1mNumber of attributes:\u001b[0m 21\n\n\n\u001b[1mNumber of objects:\u001b[0m 1100\n\n\n",
          "output_type": "stream"
        }
      ],
      "execution_count": 3
    },
    {
      "cell_type": "markdown",
      "source": "## Soure of the Dataset\nhttps://www.kaggle.com/datasets/rxnach/student-stress-factors-a-comprehensive-analysis",
      "metadata": {}
    },
    {
      "cell_type": "code",
      "source": "",
      "metadata": {
        "trusted": true
      },
      "outputs": [],
      "execution_count": null
    }
  ]
}